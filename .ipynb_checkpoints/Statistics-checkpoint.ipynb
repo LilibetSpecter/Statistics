{
 "cells": [
  {
   "cell_type": "code",
   "execution_count": 4,
   "id": "74f9b1f6-8725-4890-95b3-d37c6a0c4e7c",
   "metadata": {},
   "outputs": [],
   "source": [
    "#https://github.com/mwaskom/seaborn-data\n",
    "#bu seaborn datasetlerini alip calisabilirsiniz\n",
    "#http://seaborn.pydata.org/\n",
    "#seaborn'u import edecegiz once\n",
    "\n",
    "\n",
    "import seaborn as sns\n",
    "import pandas as pd\n"
   ]
  },
  {
   "cell_type": "code",
   "execution_count": 2,
   "id": "c5db5ebb-4e32-42aa-8fb8-47db77b078a8",
   "metadata": {},
   "outputs": [],
   "source": [
    "#sonra da datasetini cagiracagim.\n",
    "sns.get_dataset_names()\n",
    "df = sns.load_dataset(\"mpg\")\n"
   ]
  },
  {
   "cell_type": "code",
   "execution_count": 3,
   "id": "a96b3715-fda6-4bf5-952d-0c4e973684f6",
   "metadata": {},
   "outputs": [
    {
     "data": {
      "text/html": [
       "<div>\n",
       "<style scoped>\n",
       "    .dataframe tbody tr th:only-of-type {\n",
       "        vertical-align: middle;\n",
       "    }\n",
       "\n",
       "    .dataframe tbody tr th {\n",
       "        vertical-align: top;\n",
       "    }\n",
       "\n",
       "    .dataframe thead th {\n",
       "        text-align: right;\n",
       "    }\n",
       "</style>\n",
       "<table border=\"1\" class=\"dataframe\">\n",
       "  <thead>\n",
       "    <tr style=\"text-align: right;\">\n",
       "      <th></th>\n",
       "      <th>mpg</th>\n",
       "      <th>cylinders</th>\n",
       "      <th>displacement</th>\n",
       "      <th>horsepower</th>\n",
       "      <th>weight</th>\n",
       "      <th>acceleration</th>\n",
       "      <th>model_year</th>\n",
       "      <th>origin</th>\n",
       "      <th>name</th>\n",
       "    </tr>\n",
       "  </thead>\n",
       "  <tbody>\n",
       "    <tr>\n",
       "      <th>0</th>\n",
       "      <td>18.0</td>\n",
       "      <td>8</td>\n",
       "      <td>307.0</td>\n",
       "      <td>130.0</td>\n",
       "      <td>3504</td>\n",
       "      <td>12.0</td>\n",
       "      <td>70</td>\n",
       "      <td>usa</td>\n",
       "      <td>chevrolet chevelle malibu</td>\n",
       "    </tr>\n",
       "    <tr>\n",
       "      <th>1</th>\n",
       "      <td>15.0</td>\n",
       "      <td>8</td>\n",
       "      <td>350.0</td>\n",
       "      <td>165.0</td>\n",
       "      <td>3693</td>\n",
       "      <td>11.5</td>\n",
       "      <td>70</td>\n",
       "      <td>usa</td>\n",
       "      <td>buick skylark 320</td>\n",
       "    </tr>\n",
       "    <tr>\n",
       "      <th>2</th>\n",
       "      <td>18.0</td>\n",
       "      <td>8</td>\n",
       "      <td>318.0</td>\n",
       "      <td>150.0</td>\n",
       "      <td>3436</td>\n",
       "      <td>11.0</td>\n",
       "      <td>70</td>\n",
       "      <td>usa</td>\n",
       "      <td>plymouth satellite</td>\n",
       "    </tr>\n",
       "    <tr>\n",
       "      <th>3</th>\n",
       "      <td>16.0</td>\n",
       "      <td>8</td>\n",
       "      <td>304.0</td>\n",
       "      <td>150.0</td>\n",
       "      <td>3433</td>\n",
       "      <td>12.0</td>\n",
       "      <td>70</td>\n",
       "      <td>usa</td>\n",
       "      <td>amc rebel sst</td>\n",
       "    </tr>\n",
       "    <tr>\n",
       "      <th>4</th>\n",
       "      <td>17.0</td>\n",
       "      <td>8</td>\n",
       "      <td>302.0</td>\n",
       "      <td>140.0</td>\n",
       "      <td>3449</td>\n",
       "      <td>10.5</td>\n",
       "      <td>70</td>\n",
       "      <td>usa</td>\n",
       "      <td>ford torino</td>\n",
       "    </tr>\n",
       "  </tbody>\n",
       "</table>\n",
       "</div>"
      ],
      "text/plain": [
       "    mpg  cylinders  displacement  horsepower  weight  acceleration  \\\n",
       "0  18.0          8         307.0       130.0    3504          12.0   \n",
       "1  15.0          8         350.0       165.0    3693          11.5   \n",
       "2  18.0          8         318.0       150.0    3436          11.0   \n",
       "3  16.0          8         304.0       150.0    3433          12.0   \n",
       "4  17.0          8         302.0       140.0    3449          10.5   \n",
       "\n",
       "   model_year origin                       name  \n",
       "0          70    usa  chevrolet chevelle malibu  \n",
       "1          70    usa          buick skylark 320  \n",
       "2          70    usa         plymouth satellite  \n",
       "3          70    usa              amc rebel sst  \n",
       "4          70    usa                ford torino  "
      ]
     },
     "execution_count": 3,
     "metadata": {},
     "output_type": "execute_result"
    }
   ],
   "source": [
    "#datasetini alinca hemen df.head'le bor gormemmiz gerek\n",
    "df.head()"
   ]
  },
  {
   "cell_type": "code",
   "execution_count": null,
   "id": "152419b2-4cdd-4a14-bdc4-e10e795b29d6",
   "metadata": {},
   "outputs": [],
   "source": [
    "#mpg fuel consumption'i temsil ediyor. miles per gallon"
   ]
  },
  {
   "cell_type": "code",
   "execution_count": 5,
   "id": "499c7cce-a9d1-4903-99e1-90d8d72f8acc",
   "metadata": {},
   "outputs": [
    {
     "data": {
      "text/plain": [
       "(398, 9)"
      ]
     },
     "execution_count": 5,
     "metadata": {},
     "output_type": "execute_result"
    }
   ],
   "source": [
    "df.shape"
   ]
  },
  {
   "cell_type": "code",
   "execution_count": 6,
   "id": "3343d697-001b-484f-af4c-30ddddbfe71e",
   "metadata": {},
   "outputs": [
    {
     "data": {
      "text/plain": [
       "Index(['mpg', 'cylinders', 'displacement', 'horsepower', 'weight',\n",
       "       'acceleration', 'model_year', 'origin', 'name'],\n",
       "      dtype='object')"
      ]
     },
     "execution_count": 6,
     "metadata": {},
     "output_type": "execute_result"
    }
   ],
   "source": [
    "df.columns"
   ]
  },
  {
   "cell_type": "code",
   "execution_count": 7,
   "id": "23b618f7-1cf9-47c8-9d97-ce48ccf3d1cc",
   "metadata": {},
   "outputs": [
    {
     "name": "stdout",
     "output_type": "stream",
     "text": [
      "<class 'pandas.core.frame.DataFrame'>\n",
      "RangeIndex: 398 entries, 0 to 397\n",
      "Data columns (total 9 columns):\n",
      " #   Column        Non-Null Count  Dtype  \n",
      "---  ------        --------------  -----  \n",
      " 0   mpg           398 non-null    float64\n",
      " 1   cylinders     398 non-null    int64  \n",
      " 2   displacement  398 non-null    float64\n",
      " 3   horsepower    392 non-null    float64\n",
      " 4   weight        398 non-null    int64  \n",
      " 5   acceleration  398 non-null    float64\n",
      " 6   model_year    398 non-null    int64  \n",
      " 7   origin        398 non-null    object \n",
      " 8   name          398 non-null    object \n",
      "dtypes: float64(4), int64(3), object(2)\n",
      "memory usage: 28.1+ KB\n"
     ]
    }
   ],
   "source": [
    "df.info()"
   ]
  },
  {
   "cell_type": "code",
   "execution_count": 10,
   "id": "77dea475-ac53-4586-933c-fd3dda64710d",
   "metadata": {},
   "outputs": [
    {
     "data": {
      "text/html": [
       "<div>\n",
       "<style scoped>\n",
       "    .dataframe tbody tr th:only-of-type {\n",
       "        vertical-align: middle;\n",
       "    }\n",
       "\n",
       "    .dataframe tbody tr th {\n",
       "        vertical-align: top;\n",
       "    }\n",
       "\n",
       "    .dataframe thead th {\n",
       "        text-align: right;\n",
       "    }\n",
       "</style>\n",
       "<table border=\"1\" class=\"dataframe\">\n",
       "  <thead>\n",
       "    <tr style=\"text-align: right;\">\n",
       "      <th></th>\n",
       "      <th>origin</th>\n",
       "      <th>name</th>\n",
       "    </tr>\n",
       "  </thead>\n",
       "  <tbody>\n",
       "    <tr>\n",
       "      <th>0</th>\n",
       "      <td>usa</td>\n",
       "      <td>chevrolet chevelle malibu</td>\n",
       "    </tr>\n",
       "    <tr>\n",
       "      <th>1</th>\n",
       "      <td>usa</td>\n",
       "      <td>buick skylark 320</td>\n",
       "    </tr>\n",
       "    <tr>\n",
       "      <th>2</th>\n",
       "      <td>usa</td>\n",
       "      <td>plymouth satellite</td>\n",
       "    </tr>\n",
       "    <tr>\n",
       "      <th>3</th>\n",
       "      <td>usa</td>\n",
       "      <td>amc rebel sst</td>\n",
       "    </tr>\n",
       "    <tr>\n",
       "      <th>4</th>\n",
       "      <td>usa</td>\n",
       "      <td>ford torino</td>\n",
       "    </tr>\n",
       "    <tr>\n",
       "      <th>...</th>\n",
       "      <td>...</td>\n",
       "      <td>...</td>\n",
       "    </tr>\n",
       "    <tr>\n",
       "      <th>393</th>\n",
       "      <td>usa</td>\n",
       "      <td>ford mustang gl</td>\n",
       "    </tr>\n",
       "    <tr>\n",
       "      <th>394</th>\n",
       "      <td>europe</td>\n",
       "      <td>vw pickup</td>\n",
       "    </tr>\n",
       "    <tr>\n",
       "      <th>395</th>\n",
       "      <td>usa</td>\n",
       "      <td>dodge rampage</td>\n",
       "    </tr>\n",
       "    <tr>\n",
       "      <th>396</th>\n",
       "      <td>usa</td>\n",
       "      <td>ford ranger</td>\n",
       "    </tr>\n",
       "    <tr>\n",
       "      <th>397</th>\n",
       "      <td>usa</td>\n",
       "      <td>chevy s-10</td>\n",
       "    </tr>\n",
       "  </tbody>\n",
       "</table>\n",
       "<p>398 rows × 2 columns</p>\n",
       "</div>"
      ],
      "text/plain": [
       "     origin                       name\n",
       "0       usa  chevrolet chevelle malibu\n",
       "1       usa          buick skylark 320\n",
       "2       usa         plymouth satellite\n",
       "3       usa              amc rebel sst\n",
       "4       usa                ford torino\n",
       "..      ...                        ...\n",
       "393     usa            ford mustang gl\n",
       "394  europe                  vw pickup\n",
       "395     usa              dodge rampage\n",
       "396     usa                ford ranger\n",
       "397     usa                 chevy s-10\n",
       "\n",
       "[398 rows x 2 columns]"
      ]
     },
     "execution_count": 10,
     "metadata": {},
     "output_type": "execute_result"
    }
   ],
   "source": [
    "df.select_dtypes(include=[\"object\"])"
   ]
  },
  {
   "cell_type": "code",
   "execution_count": 9,
   "id": "827da876-ad17-4543-8454-f37c475ad716",
   "metadata": {},
   "outputs": [
    {
     "data": {
      "text/plain": [
       "mpg             129\n",
       "cylinders         5\n",
       "displacement     82\n",
       "horsepower       93\n",
       "weight          351\n",
       "acceleration     95\n",
       "model_year       13\n",
       "origin            3\n",
       "name            305\n",
       "dtype: int64"
      ]
     },
     "execution_count": 9,
     "metadata": {},
     "output_type": "execute_result"
    }
   ],
   "source": [
    "df.nunique(axis=0)"
   ]
  },
  {
   "cell_type": "code",
   "execution_count": 11,
   "id": "ab46c72b-489a-4a2d-b971-9c8af1104f0e",
   "metadata": {},
   "outputs": [
    {
     "data": {
      "text/html": [
       "<div>\n",
       "<style scoped>\n",
       "    .dataframe tbody tr th:only-of-type {\n",
       "        vertical-align: middle;\n",
       "    }\n",
       "\n",
       "    .dataframe tbody tr th {\n",
       "        vertical-align: top;\n",
       "    }\n",
       "\n",
       "    .dataframe thead th {\n",
       "        text-align: right;\n",
       "    }\n",
       "</style>\n",
       "<table border=\"1\" class=\"dataframe\">\n",
       "  <thead>\n",
       "    <tr style=\"text-align: right;\">\n",
       "      <th></th>\n",
       "      <th>mpg</th>\n",
       "      <th>cylinders</th>\n",
       "      <th>displacement</th>\n",
       "      <th>horsepower</th>\n",
       "      <th>weight</th>\n",
       "      <th>acceleration</th>\n",
       "      <th>model_year</th>\n",
       "    </tr>\n",
       "  </thead>\n",
       "  <tbody>\n",
       "    <tr>\n",
       "      <th>count</th>\n",
       "      <td>398.000000</td>\n",
       "      <td>398.000000</td>\n",
       "      <td>398.000000</td>\n",
       "      <td>392.000000</td>\n",
       "      <td>398.000000</td>\n",
       "      <td>398.000000</td>\n",
       "      <td>398.000000</td>\n",
       "    </tr>\n",
       "    <tr>\n",
       "      <th>mean</th>\n",
       "      <td>23.514573</td>\n",
       "      <td>5.454774</td>\n",
       "      <td>193.425879</td>\n",
       "      <td>104.469388</td>\n",
       "      <td>2970.424623</td>\n",
       "      <td>15.568090</td>\n",
       "      <td>76.010050</td>\n",
       "    </tr>\n",
       "    <tr>\n",
       "      <th>std</th>\n",
       "      <td>7.815984</td>\n",
       "      <td>1.701004</td>\n",
       "      <td>104.269838</td>\n",
       "      <td>38.491160</td>\n",
       "      <td>846.841774</td>\n",
       "      <td>2.757689</td>\n",
       "      <td>3.697627</td>\n",
       "    </tr>\n",
       "    <tr>\n",
       "      <th>min</th>\n",
       "      <td>9.000000</td>\n",
       "      <td>3.000000</td>\n",
       "      <td>68.000000</td>\n",
       "      <td>46.000000</td>\n",
       "      <td>1613.000000</td>\n",
       "      <td>8.000000</td>\n",
       "      <td>70.000000</td>\n",
       "    </tr>\n",
       "    <tr>\n",
       "      <th>25%</th>\n",
       "      <td>17.500000</td>\n",
       "      <td>4.000000</td>\n",
       "      <td>104.250000</td>\n",
       "      <td>75.000000</td>\n",
       "      <td>2223.750000</td>\n",
       "      <td>13.825000</td>\n",
       "      <td>73.000000</td>\n",
       "    </tr>\n",
       "    <tr>\n",
       "      <th>50%</th>\n",
       "      <td>23.000000</td>\n",
       "      <td>4.000000</td>\n",
       "      <td>148.500000</td>\n",
       "      <td>93.500000</td>\n",
       "      <td>2803.500000</td>\n",
       "      <td>15.500000</td>\n",
       "      <td>76.000000</td>\n",
       "    </tr>\n",
       "    <tr>\n",
       "      <th>75%</th>\n",
       "      <td>29.000000</td>\n",
       "      <td>8.000000</td>\n",
       "      <td>262.000000</td>\n",
       "      <td>126.000000</td>\n",
       "      <td>3608.000000</td>\n",
       "      <td>17.175000</td>\n",
       "      <td>79.000000</td>\n",
       "    </tr>\n",
       "    <tr>\n",
       "      <th>max</th>\n",
       "      <td>46.600000</td>\n",
       "      <td>8.000000</td>\n",
       "      <td>455.000000</td>\n",
       "      <td>230.000000</td>\n",
       "      <td>5140.000000</td>\n",
       "      <td>24.800000</td>\n",
       "      <td>82.000000</td>\n",
       "    </tr>\n",
       "  </tbody>\n",
       "</table>\n",
       "</div>"
      ],
      "text/plain": [
       "              mpg   cylinders  displacement  horsepower       weight  \\\n",
       "count  398.000000  398.000000    398.000000  392.000000   398.000000   \n",
       "mean    23.514573    5.454774    193.425879  104.469388  2970.424623   \n",
       "std      7.815984    1.701004    104.269838   38.491160   846.841774   \n",
       "min      9.000000    3.000000     68.000000   46.000000  1613.000000   \n",
       "25%     17.500000    4.000000    104.250000   75.000000  2223.750000   \n",
       "50%     23.000000    4.000000    148.500000   93.500000  2803.500000   \n",
       "75%     29.000000    8.000000    262.000000  126.000000  3608.000000   \n",
       "max     46.600000    8.000000    455.000000  230.000000  5140.000000   \n",
       "\n",
       "       acceleration  model_year  \n",
       "count    398.000000  398.000000  \n",
       "mean      15.568090   76.010050  \n",
       "std        2.757689    3.697627  \n",
       "min        8.000000   70.000000  \n",
       "25%       13.825000   73.000000  \n",
       "50%       15.500000   76.000000  \n",
       "75%       17.175000   79.000000  \n",
       "max       24.800000   82.000000  "
      ]
     },
     "execution_count": 11,
     "metadata": {},
     "output_type": "execute_result"
    }
   ],
   "source": [
    "df.describe()\n",
    "#descriptive statistics bilgileri gorelim"
   ]
  },
  {
   "cell_type": "markdown",
   "id": "57fbe57c-67a4-42db-97e0-32e457e1f888",
   "metadata": {},
   "source": [
    "## 2 population and sample"
   ]
  },
  {
   "cell_type": "code",
   "execution_count": 12,
   "id": "fa7ee1e9-84ca-4f2a-898d-36fe2bd7f60b",
   "metadata": {},
   "outputs": [],
   "source": [
    "import numpy as np\n",
    "#random sayi uretmek icin numpy calistirmam gerek"
   ]
  },
  {
   "cell_type": "code",
   "execution_count": null,
   "id": "a7dcb39b-c061-40f3-8687-402f6f762a6c",
   "metadata": {},
   "outputs": [],
   "source": [
    "from scipy import stats\n",
    "#scipy kutuphanesinden stats modulunu cagiriyorum"
   ]
  },
  {
   "cell_type": "code",
   "execution_count": 14,
   "id": "644baecf-b70e-4761-b7e5-e075decf97b1",
   "metadata": {},
   "outputs": [],
   "source": [
    "#random sayi uretmek icin kullandiigim kod blogu\n",
    "#yani bir populasyon olusturyorum\n",
    "\n",
    "np.random.seed(101)\n",
    "population=np.random.randint(0, 100, size=1000)\n",
    "#su anda bir populasyon uretimi yapmis olduk\n",
    "#0'dan 100'e kadar 1000 elementli bir populasyon"
   ]
  },
  {
   "cell_type": "code",
   "execution_count": 15,
   "id": "61761847-119f-41b6-9a64-e8c4c6ab5075",
   "metadata": {},
   "outputs": [],
   "source": [
    "#simdi bu populasyondan, rastgele sample cekecegim\n",
    "np.random.seed(51)\n",
    "sample = np.random.choice(population, 100)\n",
    "#100 elemanli bir sample yaptik"
   ]
  },
  {
   "cell_type": "code",
   "execution_count": null,
   "id": "6e9c75fb-b9fd-411f-bf06-c98e6482a07a",
   "metadata": {},
   "outputs": [],
   "source": [
    "population.mean() #populasyonun ortalamasi"
   ]
  },
  {
   "cell_type": "code",
   "execution_count": 19,
   "id": "a9eb1bee-f04e-490d-b390-9eecec504495",
   "metadata": {},
   "outputs": [
    {
     "data": {
      "text/plain": [
       "45.8"
      ]
     },
     "execution_count": 19,
     "metadata": {},
     "output_type": "execute_result"
    }
   ],
   "source": [
    "sample.mean() \n",
    "#sample sayisini buyuttukce, populasyonun meanine yakinsar"
   ]
  },
  {
   "cell_type": "code",
   "execution_count": null,
   "id": "32770417-16c5-4491-b0a1-f5c286d2e066",
   "metadata": {},
   "outputs": [],
   "source": [
    "#sample means adinda bir listeye 100 farkli sample'in ortalamasini ekleyelim\n",
    "#yani 100 kere sample cekecegiz\n",
    "#herbir sample'i bu sample in icine ekleyecek\n",
    "#central limit theoremin bir uzantisi bu\n"
   ]
  },
  {
   "cell_type": "code",
   "execution_count": 21,
   "id": "0f66e26b-7563-4103-ab43-8bffd9ecbd52",
   "metadata": {},
   "outputs": [
    {
     "data": {
      "text/plain": [
       "[52.93,\n",
       " 52.71,\n",
       " 51.48,\n",
       " 49.02,\n",
       " 50.72,\n",
       " 45.84,\n",
       " 48.77,\n",
       " 48.41,\n",
       " 54.01,\n",
       " 44.87,\n",
       " 51.72,\n",
       " 51.65,\n",
       " 54.57,\n",
       " 48.83,\n",
       " 44.41,\n",
       " 49.63,\n",
       " 49.15,\n",
       " 50.02,\n",
       " 48.74,\n",
       " 52.77,\n",
       " 51.26,\n",
       " 49.28,\n",
       " 52.28,\n",
       " 50.7,\n",
       " 52.81,\n",
       " 46.22,\n",
       " 54.3,\n",
       " 46.9,\n",
       " 49.29,\n",
       " 46.83,\n",
       " 49.81,\n",
       " 45.98,\n",
       " 53.15,\n",
       " 50.75,\n",
       " 41.74,\n",
       " 47.2,\n",
       " 51.9,\n",
       " 48.24,\n",
       " 52.57,\n",
       " 50.34,\n",
       " 45.78,\n",
       " 48.94,\n",
       " 56.4,\n",
       " 51.11,\n",
       " 50.95,\n",
       " 44.03,\n",
       " 51.2,\n",
       " 47.32,\n",
       " 53.74,\n",
       " 48.19,\n",
       " 54.51,\n",
       " 47.38,\n",
       " 50.3,\n",
       " 49.49,\n",
       " 52.27,\n",
       " 53.45,\n",
       " 53.87,\n",
       " 52.99,\n",
       " 54.08,\n",
       " 53.49,\n",
       " 52.23,\n",
       " 47.72,\n",
       " 49.48,\n",
       " 53.17,\n",
       " 51.83,\n",
       " 52.98,\n",
       " 47.68,\n",
       " 54.8,\n",
       " 50.11,\n",
       " 50.31,\n",
       " 52.07,\n",
       " 49.52,\n",
       " 51.08,\n",
       " 53.73,\n",
       " 47.46,\n",
       " 48.05,\n",
       " 46.97,\n",
       " 47.07,\n",
       " 50.67,\n",
       " 46.96,\n",
       " 49.74,\n",
       " 50.45,\n",
       " 50.02,\n",
       " 49.99,\n",
       " 48.17,\n",
       " 48.72,\n",
       " 48.8,\n",
       " 53.64,\n",
       " 48.65,\n",
       " 55.24,\n",
       " 45.34,\n",
       " 52.11,\n",
       " 51.73,\n",
       " 51.0,\n",
       " 52.41,\n",
       " 49.71,\n",
       " 49.24,\n",
       " 48.12,\n",
       " 49.51,\n",
       " 43.78]"
      ]
     },
     "execution_count": 21,
     "metadata": {},
     "output_type": "execute_result"
    }
   ],
   "source": [
    "sample_means = []\n",
    "for i in range(100):\n",
    "  sample = np.random.choice(population, 100)\n",
    "  sample_means.append(sample.mean())\n",
    "sample_means"
   ]
  },
  {
   "cell_type": "code",
   "execution_count": 22,
   "id": "2d3b1d4b-7142-4231-b9c9-b223dfe7c19f",
   "metadata": {
    "tags": []
   },
   "outputs": [
    {
     "data": {
      "text/plain": [
       "50.11549999999999"
      ]
     },
     "execution_count": 22,
     "metadata": {},
     "output_type": "execute_result"
    }
   ],
   "source": [
    "np.mean(sample_means)"
   ]
  },
  {
   "cell_type": "markdown",
   "id": "f86a0c2c-78af-42c2-a042-b952051cd3bd",
   "metadata": {},
   "source": [
    "Mean Median Mode Kurtosis"
   ]
  },
  {
   "cell_type": "code",
   "execution_count": 23,
   "id": "ca4b17aa-798e-4f92-a6dd-2262c14504c7",
   "metadata": {},
   "outputs": [
    {
     "data": {
      "text/plain": [
       "34.90909090909091"
      ]
     },
     "execution_count": 23,
     "metadata": {},
     "output_type": "execute_result"
    }
   ],
   "source": [
    "np.mean(sample_means)\n",
    "\n",
    "age = [20, 22, 25, 25, 27, 27, 27, 29, 30, 31, 121]\n",
    "\n",
    "np.mean(age)"
   ]
  },
  {
   "cell_type": "code",
   "execution_count": null,
   "id": "b1a12e59-a42c-4821-8c33-c56b7f463206",
   "metadata": {},
   "outputs": [],
   "source": []
  },
  {
   "cell_type": "code",
   "execution_count": 24,
   "id": "ea7e6deb-d95f-4986-9b00-42a4a836560c",
   "metadata": {},
   "outputs": [
    {
     "ename": "NameError",
     "evalue": "name 'stats' is not defined",
     "output_type": "error",
     "traceback": [
      "\u001b[0;31m---------------------------------------------------------------------------\u001b[0m",
      "\u001b[0;31mNameError\u001b[0m                                 Traceback (most recent call last)",
      "\u001b[0;32m/var/folders/5z/xb_33d255mq_trf2qys6_r540000gn/T/ipykernel_38763/1872287126.py\u001b[0m in \u001b[0;36m<module>\u001b[0;34m\u001b[0m\n\u001b[1;32m      2\u001b[0m \u001b[0;34m\u001b[0m\u001b[0m\n\u001b[1;32m      3\u001b[0m \u001b[0mnp\u001b[0m\u001b[0;34m.\u001b[0m\u001b[0mmedian\u001b[0m\u001b[0;34m(\u001b[0m\u001b[0mage\u001b[0m\u001b[0;34m)\u001b[0m\u001b[0;34m\u001b[0m\u001b[0;34m\u001b[0m\u001b[0m\n\u001b[0;32m----> 4\u001b[0;31m \u001b[0mstats\u001b[0m\u001b[0;34m.\u001b[0m\u001b[0mmode\u001b[0m\u001b[0;34m(\u001b[0m\u001b[0mage\u001b[0m\u001b[0;34m)\u001b[0m\u001b[0;34m\u001b[0m\u001b[0;34m\u001b[0m\u001b[0m\n\u001b[0m",
      "\u001b[0;31mNameError\u001b[0m: name 'stats' is not defined"
     ]
    }
   ],
   "source": [
    "np.mean(age)\n",
    "\n",
    "np.median(age)\n",
    "stats.mode(age)\n",
    "#mode hesabi icin scipy kullaniyoruz"
   ]
  },
  {
   "cell_type": "code",
   "execution_count": null,
   "id": "95347cf0-e1c5-42b1-bf59-126f8ce0988b",
   "metadata": {},
   "outputs": [],
   "source": [
    "stats.mode(age)"
   ]
  },
  {
   "cell_type": "code",
   "execution_count": null,
   "id": "eff60fc5-4c46-4077-b2ec-6d3233d9e976",
   "metadata": {},
   "outputs": [],
   "source": [
    "data = {\"D1\":[135, 137, 136, 138, 138],\n",
    "              \"D2\":[43,   42, 42, 42, 42],\n",
    "              \"D3\":[72, 73, 72, 72, 73],\n",
    "              \"D4\":[100, 102, 100, 103, 104]};\n"
   ]
  },
  {
   "cell_type": "code",
   "execution_count": null,
   "id": "db73defd-58be-4aae-8e1a-ffa91475d4ee",
   "metadata": {},
   "outputs": [],
   "source": []
  },
  {
   "cell_type": "code",
   "execution_count": null,
   "id": "2c841d5c-3b24-4fd1-8f16-cab9374bb056",
   "metadata": {},
   "outputs": [],
   "source": []
  },
  {
   "cell_type": "code",
   "execution_count": null,
   "id": "be165602-0a61-48a6-83f2-745a7c2975fb",
   "metadata": {},
   "outputs": [],
   "source": []
  },
  {
   "cell_type": "code",
   "execution_count": null,
   "id": "3c0fb878-045b-4823-a1ae-96804c00fd67",
   "metadata": {},
   "outputs": [],
   "source": []
  },
  {
   "cell_type": "code",
   "execution_count": null,
   "id": "4e917852-b94a-4d83-92fd-81e8f6500eaa",
   "metadata": {},
   "outputs": [],
   "source": []
  },
  {
   "cell_type": "code",
   "execution_count": null,
   "id": "457dbb3d-ebbd-4745-8c83-86b909493fae",
   "metadata": {},
   "outputs": [],
   "source": []
  },
  {
   "cell_type": "code",
   "execution_count": null,
   "id": "9f756e4c-6d1a-4fa4-9325-574455d306a3",
   "metadata": {},
   "outputs": [],
   "source": []
  },
  {
   "cell_type": "markdown",
   "id": "2bea98ee-1ed1-4c7d-ad25-612f720c904d",
   "metadata": {},
   "source": [
    "## 5 Skeweness Kurtosis"
   ]
  },
  {
   "cell_type": "code",
   "execution_count": null,
   "id": "c9c5ce8e-d4d1-4002-ba5f-45089a678fee",
   "metadata": {},
   "outputs": [],
   "source": [
    "stats.kurtosis(age2)\n",
    "#basiklik olcumu"
   ]
  },
  {
   "cell_type": "code",
   "execution_count": 25,
   "id": "a24b4bd1-888f-4a31-afa5-678b6af42a7e",
   "metadata": {},
   "outputs": [
    {
     "ename": "NameError",
     "evalue": "name 'stats' is not defined",
     "output_type": "error",
     "traceback": [
      "\u001b[0;31m---------------------------------------------------------------------------\u001b[0m",
      "\u001b[0;31mNameError\u001b[0m                                 Traceback (most recent call last)",
      "\u001b[0;32m/var/folders/5z/xb_33d255mq_trf2qys6_r540000gn/T/ipykernel_38763/865494371.py\u001b[0m in \u001b[0;36m<module>\u001b[0;34m\u001b[0m\n\u001b[0;32m----> 1\u001b[0;31m \u001b[0mstats\u001b[0m\u001b[0;34m.\u001b[0m\u001b[0mskew\u001b[0m\u001b[0;34m(\u001b[0m\u001b[0mage2\u001b[0m\u001b[0;34m)\u001b[0m\u001b[0;34m\u001b[0m\u001b[0;34m\u001b[0m\u001b[0m\n\u001b[0m\u001b[1;32m      2\u001b[0m \u001b[0;31m#skewness yani carpiklik olcumu\u001b[0m\u001b[0;34m\u001b[0m\u001b[0;34m\u001b[0m\u001b[0m\n",
      "\u001b[0;31mNameError\u001b[0m: name 'stats' is not defined"
     ]
    }
   ],
   "source": [
    "stats.skew(age2)\n",
    "#skewness yani carpiklik olcumu"
   ]
  },
  {
   "cell_type": "code",
   "execution_count": null,
   "id": "061afed4-128b-413b-9bf7-a03ceecb182b",
   "metadata": {},
   "outputs": [],
   "source": []
  }
 ],
 "metadata": {
  "kernelspec": {
   "display_name": "Python 3 (ipykernel)",
   "language": "python",
   "name": "python3"
  },
  "language_info": {
   "codemirror_mode": {
    "name": "ipython",
    "version": 3
   },
   "file_extension": ".py",
   "mimetype": "text/x-python",
   "name": "python",
   "nbconvert_exporter": "python",
   "pygments_lexer": "ipython3",
   "version": "3.9.13"
  }
 },
 "nbformat": 4,
 "nbformat_minor": 5
}
